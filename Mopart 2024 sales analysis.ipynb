{
 "cells": [
  {
   "attachments": {},
   "cell_type": "markdown",
   "metadata": {},
   "source": [
    "Import necessary modules"
   ]
  },
  {
   "cell_type": "code",
   "execution_count": 2,
   "metadata": {},
   "outputs": [],
   "source": [
    "import pandas as pd\n",
    "import numpy as np\n",
    "import os \n",
    "import datetime as dt\n",
    "import matplotlib.pyplot as plt\n",
    "from numpy import random\n"
   ]
  },
  {
   "attachments": {},
   "cell_type": "markdown",
   "metadata": {},
   "source": [
    "Read my dataset"
   ]
  },
  {
   "cell_type": "code",
   "execution_count": 3,
   "metadata": {},
   "outputs": [],
   "source": [
    "sales=pd.read_excel(\"Copy of Mopart_ 2024 Sales Record.xlsx\",index_col='Date ')"
   ]
  },
  {
   "attachments": {},
   "cell_type": "markdown",
   "metadata": {},
   "source": [
    "Glimpse of my data"
   ]
  },
  {
   "cell_type": "code",
   "execution_count": 4,
   "metadata": {},
   "outputs": [
    {
     "data": {
      "text/html": [
       "<div>\n",
       "<style scoped>\n",
       "    .dataframe tbody tr th:only-of-type {\n",
       "        vertical-align: middle;\n",
       "    }\n",
       "\n",
       "    .dataframe tbody tr th {\n",
       "        vertical-align: top;\n",
       "    }\n",
       "\n",
       "    .dataframe thead th {\n",
       "        text-align: right;\n",
       "    }\n",
       "</style>\n",
       "<table border=\"1\" class=\"dataframe\">\n",
       "  <thead>\n",
       "    <tr style=\"text-align: right;\">\n",
       "      <th></th>\n",
       "      <th>Product</th>\n",
       "      <th>Amount</th>\n",
       "    </tr>\n",
       "    <tr>\n",
       "      <th>Date</th>\n",
       "      <th></th>\n",
       "      <th></th>\n",
       "    </tr>\n",
       "  </thead>\n",
       "  <tbody>\n",
       "    <tr>\n",
       "      <th>2024-01-02</th>\n",
       "      <td>bearing</td>\n",
       "      <td>400</td>\n",
       "    </tr>\n",
       "    <tr>\n",
       "      <th>2024-01-02</th>\n",
       "      <td>diesel tank</td>\n",
       "      <td>10000</td>\n",
       "    </tr>\n",
       "    <tr>\n",
       "      <th>2024-01-03</th>\n",
       "      <td>cleb c rubber</td>\n",
       "      <td>1000</td>\n",
       "    </tr>\n",
       "    <tr>\n",
       "      <th>2024-01-04</th>\n",
       "      <td>spring main cxz|R|</td>\n",
       "      <td>4000</td>\n",
       "    </tr>\n",
       "    <tr>\n",
       "      <th>2024-01-04</th>\n",
       "      <td>pipe</td>\n",
       "      <td>300</td>\n",
       "    </tr>\n",
       "    <tr>\n",
       "      <th>2024-01-05</th>\n",
       "      <td>spring txd</td>\n",
       "      <td>1400</td>\n",
       "    </tr>\n",
       "    <tr>\n",
       "      <th>2024-01-05</th>\n",
       "      <td>radiator txd</td>\n",
       "      <td>12500</td>\n",
       "    </tr>\n",
       "    <tr>\n",
       "      <th>2024-01-05</th>\n",
       "      <td>hub kobora</td>\n",
       "      <td>5500</td>\n",
       "    </tr>\n",
       "    <tr>\n",
       "      <th>2024-01-05</th>\n",
       "      <td>fan cxz</td>\n",
       "      <td>3000</td>\n",
       "    </tr>\n",
       "    <tr>\n",
       "      <th>2024-01-05</th>\n",
       "      <td>main spring txd</td>\n",
       "      <td>2500</td>\n",
       "    </tr>\n",
       "    <tr>\n",
       "      <th>2024-01-05</th>\n",
       "      <td>backplate txd</td>\n",
       "      <td>4000</td>\n",
       "    </tr>\n",
       "    <tr>\n",
       "      <th>2024-01-06</th>\n",
       "      <td>fridge txd</td>\n",
       "      <td>4000</td>\n",
       "    </tr>\n",
       "    <tr>\n",
       "      <th>2024-01-06</th>\n",
       "      <td>bolts</td>\n",
       "      <td>400</td>\n",
       "    </tr>\n",
       "    <tr>\n",
       "      <th>2024-01-06</th>\n",
       "      <td>main spring txd</td>\n",
       "      <td>2500</td>\n",
       "    </tr>\n",
       "    <tr>\n",
       "      <th>2024-01-06</th>\n",
       "      <td>spring helper</td>\n",
       "      <td>2000</td>\n",
       "    </tr>\n",
       "    <tr>\n",
       "      <th>2024-01-06</th>\n",
       "      <td>compressor</td>\n",
       "      <td>15000</td>\n",
       "    </tr>\n",
       "    <tr>\n",
       "      <th>2024-01-06</th>\n",
       "      <td>gasket</td>\n",
       "      <td>300</td>\n",
       "    </tr>\n",
       "    <tr>\n",
       "      <th>2024-01-06</th>\n",
       "      <td>springs helpers txd</td>\n",
       "      <td>3600</td>\n",
       "    </tr>\n",
       "    <tr>\n",
       "      <th>2024-01-06</th>\n",
       "      <td>steering assy txd</td>\n",
       "      <td>3000</td>\n",
       "    </tr>\n",
       "    <tr>\n",
       "      <th>2024-01-06</th>\n",
       "      <td>front axle frr</td>\n",
       "      <td>75000</td>\n",
       "    </tr>\n",
       "  </tbody>\n",
       "</table>\n",
       "</div>"
      ],
      "text/plain": [
       "                        Product  Amount\n",
       "Date                                   \n",
       "2024-01-02              bearing     400\n",
       "2024-01-02          diesel tank   10000\n",
       "2024-01-03        cleb c rubber    1000\n",
       "2024-01-04   spring main cxz|R|    4000\n",
       "2024-01-04                 pipe     300\n",
       "2024-01-05           spring txd    1400\n",
       "2024-01-05         radiator txd   12500\n",
       "2024-01-05           hub kobora    5500\n",
       "2024-01-05              fan cxz    3000\n",
       "2024-01-05      main spring txd    2500\n",
       "2024-01-05        backplate txd    4000\n",
       "2024-01-06           fridge txd    4000\n",
       "2024-01-06                bolts     400\n",
       "2024-01-06      main spring txd    2500\n",
       "2024-01-06        spring helper    2000\n",
       "2024-01-06           compressor   15000\n",
       "2024-01-06               gasket     300\n",
       "2024-01-06  springs helpers txd    3600\n",
       "2024-01-06    steering assy txd    3000\n",
       "2024-01-06       front axle frr   75000"
      ]
     },
     "execution_count": 4,
     "metadata": {},
     "output_type": "execute_result"
    }
   ],
   "source": [
    "sales.head(20)"
   ]
  },
  {
   "cell_type": "code",
   "execution_count": 5,
   "metadata": {},
   "outputs": [
    {
     "data": {
      "text/plain": [
       "Index(['Product', 'Amount'], dtype='object')"
      ]
     },
     "execution_count": 5,
     "metadata": {},
     "output_type": "execute_result"
    }
   ],
   "source": [
    "sales.columns"
   ]
  },
  {
   "cell_type": "code",
   "execution_count": 6,
   "metadata": {},
   "outputs": [
    {
     "data": {
      "text/html": [
       "<div>\n",
       "<style scoped>\n",
       "    .dataframe tbody tr th:only-of-type {\n",
       "        vertical-align: middle;\n",
       "    }\n",
       "\n",
       "    .dataframe tbody tr th {\n",
       "        vertical-align: top;\n",
       "    }\n",
       "\n",
       "    .dataframe thead th {\n",
       "        text-align: right;\n",
       "    }\n",
       "</style>\n",
       "<table border=\"1\" class=\"dataframe\">\n",
       "  <thead>\n",
       "    <tr style=\"text-align: right;\">\n",
       "      <th></th>\n",
       "      <th>Amount</th>\n",
       "    </tr>\n",
       "  </thead>\n",
       "  <tbody>\n",
       "    <tr>\n",
       "      <th>count</th>\n",
       "      <td>2541.000000</td>\n",
       "    </tr>\n",
       "    <tr>\n",
       "      <th>mean</th>\n",
       "      <td>6607.434081</td>\n",
       "    </tr>\n",
       "    <tr>\n",
       "      <th>std</th>\n",
       "      <td>12263.138175</td>\n",
       "    </tr>\n",
       "    <tr>\n",
       "      <th>min</th>\n",
       "      <td>40.000000</td>\n",
       "    </tr>\n",
       "    <tr>\n",
       "      <th>25%</th>\n",
       "      <td>1300.000000</td>\n",
       "    </tr>\n",
       "    <tr>\n",
       "      <th>50%</th>\n",
       "      <td>3000.000000</td>\n",
       "    </tr>\n",
       "    <tr>\n",
       "      <th>75%</th>\n",
       "      <td>6000.000000</td>\n",
       "    </tr>\n",
       "    <tr>\n",
       "      <th>max</th>\n",
       "      <td>170000.000000</td>\n",
       "    </tr>\n",
       "  </tbody>\n",
       "</table>\n",
       "</div>"
      ],
      "text/plain": [
       "              Amount\n",
       "count    2541.000000\n",
       "mean     6607.434081\n",
       "std     12263.138175\n",
       "min        40.000000\n",
       "25%      1300.000000\n",
       "50%      3000.000000\n",
       "75%      6000.000000\n",
       "max    170000.000000"
      ]
     },
     "execution_count": 6,
     "metadata": {},
     "output_type": "execute_result"
    }
   ],
   "source": [
    "sales.describe()"
   ]
  },
  {
   "cell_type": "code",
   "execution_count": 7,
   "metadata": {},
   "outputs": [
    {
     "name": "stdout",
     "output_type": "stream",
     "text": [
      "<class 'pandas.core.frame.DataFrame'>\n",
      "DatetimeIndex: 2541 entries, 2024-01-02 to 2024-12-31\n",
      "Data columns (total 2 columns):\n",
      " #   Column   Non-Null Count  Dtype \n",
      "---  ------   --------------  ----- \n",
      " 0   Product  2541 non-null   object\n",
      " 1   Amount   2541 non-null   int64 \n",
      "dtypes: int64(1), object(1)\n",
      "memory usage: 59.6+ KB\n"
     ]
    }
   ],
   "source": [
    "sales.info()"
   ]
  },
  {
   "attachments": {},
   "cell_type": "markdown",
   "metadata": {},
   "source": [
    "Checking the data types"
   ]
  },
  {
   "cell_type": "code",
   "execution_count": 8,
   "metadata": {},
   "outputs": [
    {
     "name": "stdout",
     "output_type": "stream",
     "text": [
      "datetime64[ns]\n",
      "int64\n",
      "object\n",
      "Product    object\n",
      "Amount      int64\n",
      "dtype: object\n"
     ]
    }
   ],
   "source": [
    "print(sales.index.dtype)\n",
    "print(sales['Amount'].dtype)\n",
    "print(sales['Product'].dtype)\n",
    "\n",
    "print(sales.dtypes)"
   ]
  },
  {
   "attachments": {},
   "cell_type": "markdown",
   "metadata": {},
   "source": [
    "Checking missing values"
   ]
  },
  {
   "cell_type": "code",
   "execution_count": 9,
   "metadata": {},
   "outputs": [
    {
     "data": {
      "text/html": [
       "<div>\n",
       "<style scoped>\n",
       "    .dataframe tbody tr th:only-of-type {\n",
       "        vertical-align: middle;\n",
       "    }\n",
       "\n",
       "    .dataframe tbody tr th {\n",
       "        vertical-align: top;\n",
       "    }\n",
       "\n",
       "    .dataframe thead th {\n",
       "        text-align: right;\n",
       "    }\n",
       "</style>\n",
       "<table border=\"1\" class=\"dataframe\">\n",
       "  <thead>\n",
       "    <tr style=\"text-align: right;\">\n",
       "      <th></th>\n",
       "      <th>Product</th>\n",
       "      <th>Amount</th>\n",
       "    </tr>\n",
       "    <tr>\n",
       "      <th>Date</th>\n",
       "      <th></th>\n",
       "      <th></th>\n",
       "    </tr>\n",
       "  </thead>\n",
       "  <tbody>\n",
       "    <tr>\n",
       "      <th>2024-01-02</th>\n",
       "      <td>False</td>\n",
       "      <td>False</td>\n",
       "    </tr>\n",
       "    <tr>\n",
       "      <th>2024-01-02</th>\n",
       "      <td>False</td>\n",
       "      <td>False</td>\n",
       "    </tr>\n",
       "    <tr>\n",
       "      <th>2024-01-03</th>\n",
       "      <td>False</td>\n",
       "      <td>False</td>\n",
       "    </tr>\n",
       "    <tr>\n",
       "      <th>2024-01-04</th>\n",
       "      <td>False</td>\n",
       "      <td>False</td>\n",
       "    </tr>\n",
       "    <tr>\n",
       "      <th>2024-01-04</th>\n",
       "      <td>False</td>\n",
       "      <td>False</td>\n",
       "    </tr>\n",
       "    <tr>\n",
       "      <th>...</th>\n",
       "      <td>...</td>\n",
       "      <td>...</td>\n",
       "    </tr>\n",
       "    <tr>\n",
       "      <th>2024-12-31</th>\n",
       "      <td>False</td>\n",
       "      <td>False</td>\n",
       "    </tr>\n",
       "    <tr>\n",
       "      <th>2024-12-31</th>\n",
       "      <td>False</td>\n",
       "      <td>False</td>\n",
       "    </tr>\n",
       "    <tr>\n",
       "      <th>2024-12-31</th>\n",
       "      <td>False</td>\n",
       "      <td>False</td>\n",
       "    </tr>\n",
       "    <tr>\n",
       "      <th>2024-12-31</th>\n",
       "      <td>False</td>\n",
       "      <td>False</td>\n",
       "    </tr>\n",
       "    <tr>\n",
       "      <th>2024-12-31</th>\n",
       "      <td>False</td>\n",
       "      <td>False</td>\n",
       "    </tr>\n",
       "  </tbody>\n",
       "</table>\n",
       "<p>2541 rows × 2 columns</p>\n",
       "</div>"
      ],
      "text/plain": [
       "            Product  Amount\n",
       "Date                       \n",
       "2024-01-02    False   False\n",
       "2024-01-02    False   False\n",
       "2024-01-03    False   False\n",
       "2024-01-04    False   False\n",
       "2024-01-04    False   False\n",
       "...             ...     ...\n",
       "2024-12-31    False   False\n",
       "2024-12-31    False   False\n",
       "2024-12-31    False   False\n",
       "2024-12-31    False   False\n",
       "2024-12-31    False   False\n",
       "\n",
       "[2541 rows x 2 columns]"
      ]
     },
     "execution_count": 9,
     "metadata": {},
     "output_type": "execute_result"
    }
   ],
   "source": [
    "sales.isnull()"
   ]
  },
  {
   "cell_type": "code",
   "execution_count": 10,
   "metadata": {},
   "outputs": [
    {
     "name": "stdout",
     "output_type": "stream",
     "text": [
      "            Product  Amount\n",
      "Date                       \n",
      "2024-01-02    False   False\n",
      "2024-01-02    False   False\n",
      "2024-01-03    False   False\n",
      "2024-01-04    False   False\n",
      "2024-01-04    False   False\n",
      "...             ...     ...\n",
      "2024-12-31    False   False\n",
      "2024-12-31    False   False\n",
      "2024-12-31    False   False\n",
      "2024-12-31    False   False\n",
      "2024-12-31    False   False\n",
      "\n",
      "[2541 rows x 2 columns]\n",
      "Empty DataFrame\n",
      "Columns: [Product, Amount]\n",
      "Index: []\n"
     ]
    }
   ],
   "source": [
    "#checking missing values\n",
    "hakuna=pd.isnull(sales)\n",
    "print(hakuna)\n",
    "\n",
    "null=sales[hakuna['Amount']==True]\n",
    "print(null)"
   ]
  },
  {
   "attachments": {},
   "cell_type": "markdown",
   "metadata": {},
   "source": [
    "Compute the total sales per month"
   ]
  },
  {
   "cell_type": "code",
   "execution_count": 11,
   "metadata": {},
   "outputs": [
    {
     "name": "stderr",
     "output_type": "stream",
     "text": [
      "C:\\Users\\evans\\AppData\\Local\\Temp\\ipykernel_7852\\1150031090.py:2: FutureWarning: 'M' is deprecated and will be removed in a future version, please use 'ME' instead.\n",
      "  month_res=sales.resample('M')\n"
     ]
    },
    {
     "data": {
      "text/plain": [
       "Date \n",
       "2024-07-31    2334700\n",
       "2024-11-30    1736620\n",
       "2024-12-31    1618950\n",
       "2024-08-31    1595570\n",
       "2024-10-31    1285050\n",
       "2024-05-31    1266200\n",
       "2024-09-30    1265400\n",
       "2024-02-29    1255710\n",
       "2024-03-31    1245000\n",
       "2024-06-30    1239800\n",
       "2024-04-30    1105840\n",
       "2024-01-31     840650\n",
       "Name: Amount, dtype: int64"
      ]
     },
     "execution_count": 11,
     "metadata": {},
     "output_type": "execute_result"
    }
   ],
   "source": [
    "##resample the date per month\n",
    "month_res=sales.resample('M')\n",
    "month_res.size()\n",
    "tot_sales_per_month=month_res['Amount'].sum().sort_values(ascending=False)\n",
    "tot_sales_per_month"
   ]
  },
  {
   "cell_type": "code",
   "execution_count": 12,
   "metadata": {},
   "outputs": [
    {
     "data": {
      "text/plain": [
       "Date \n",
       "2024-01-31     840650\n",
       "2024-04-30    1105840\n",
       "2024-06-30    1239800\n",
       "2024-03-31    1245000\n",
       "2024-02-29    1255710\n",
       "2024-09-30    1265400\n",
       "2024-05-31    1266200\n",
       "2024-10-31    1285050\n",
       "2024-08-31    1595570\n",
       "2024-12-31    1618950\n",
       "2024-11-30    1736620\n",
       "2024-07-31    2334700\n",
       "Name: Amount, dtype: int64"
      ]
     },
     "execution_count": 12,
     "metadata": {},
     "output_type": "execute_result"
    }
   ],
   "source": [
    "tot_sales_per_month.sort_values()"
   ]
  },
  {
   "cell_type": "code",
   "execution_count": 13,
   "metadata": {},
   "outputs": [
    {
     "name": "stdout",
     "output_type": "stream",
     "text": [
      "                       Product  Amount  Month\n",
      "Date                                         \n",
      "2024-01-02             bearing     400      1\n",
      "2024-01-02         diesel tank   10000      1\n",
      "2024-01-03       cleb c rubber    1000      1\n",
      "2024-01-04  spring main cxz|R|    4000      1\n",
      "2024-01-04                pipe     300      1\n"
     ]
    },
    {
     "data": {
      "text/plain": [
       "<matplotlib.legend.Legend at 0x25b6d4a9fd0>"
      ]
     },
     "execution_count": 13,
     "metadata": {},
     "output_type": "execute_result"
    },
    {
     "data": {
      "image/png": "[encoded data removed]",
      "text/plain": [
       "<Figure size 640x480 with 1 Axes>"
      ]
     },
     "metadata": {},
     "output_type": "display_data"
    }
   ],
   "source": [
    "##using groupby\n",
    "sales['Month']=sales.index.month\n",
    "print(sales.head())\n",
    "\n",
    "month_grp=sales.groupby(['Month'])\n",
    "tot_per_month=month_grp['Amount'].sum()\n",
    "tot_per_month_plot=tot_per_month.plot(kind='bar',xlabel='Month',ylabel='Amount',title='TOTAL SALES PER MONTH',color='green')\n",
    "plt.legend()\n",
    "#july had the best sales with over 2mil"
   ]
  },
  {
   "cell_type": "code",
   "execution_count": 14,
   "metadata": {},
   "outputs": [
    {
     "data": {
      "text/plain": [
       "<function matplotlib.pyplot.legend(*args, **kwargs) -> 'Legend'>"
      ]
     },
     "execution_count": 14,
     "metadata": {},
     "output_type": "execute_result"
    },
    {
     "data": {
      "image/png": "[encoded data removed]",
      "text/plain": [
       "<Figure size 640x480 with 1 Axes>"
      ]
     },
     "metadata": {},
     "output_type": "display_data"
    }
   ],
   "source": [
    "##total sales per month in order\n",
    "tot_per_month_order=month_grp['Amount'].sum().sort_values(ascending=False)\n",
    "tot_per_month_order_plot=tot_per_month_order.plot(kind='bar',xlabel='Month',ylabel='Amount',title='TOTAL SALES PER MONTH IN ORDER')\n",
    "plt.legend"
   ]
  },
  {
   "cell_type": "code",
   "execution_count": 15,
   "metadata": {},
   "outputs": [
    {
     "data": {
      "text/plain": [
       "Month\n",
       "1     150\n",
       "2     208\n",
       "3     236\n",
       "4     196\n",
       "5     217\n",
       "6     229\n",
       "7     254\n",
       "8     243\n",
       "9     211\n",
       "10    196\n",
       "11    206\n",
       "12    195\n",
       "dtype: int64"
      ]
     },
     "execution_count": 15,
     "metadata": {},
     "output_type": "execute_result"
    }
   ],
   "source": [
    "month_grp.size()"
   ]
  },
  {
   "attachments": {},
   "cell_type": "markdown",
   "metadata": {},
   "source": [
    "Maximum and Average sales"
   ]
  },
  {
   "cell_type": "code",
   "execution_count": 16,
   "metadata": {},
   "outputs": [
    {
     "name": "stdout",
     "output_type": "stream",
     "text": [
      "Month\n",
      "1      75000\n",
      "2     100000\n",
      "3      80000\n",
      "4      67000\n",
      "5      70000\n",
      "6      65000\n",
      "7     170000\n",
      "8     120000\n",
      "9      77000\n",
      "10     58000\n",
      "11    140000\n",
      "12     90000\n",
      "Name: Amount, dtype: int64\n",
      "Month\n",
      "1     5604.333333\n",
      "2     6037.067308\n",
      "3     5275.423729\n",
      "4     5642.040816\n",
      "5     5835.023041\n",
      "6     5413.973799\n",
      "7     9191.732283\n",
      "8     6566.131687\n",
      "9     5997.156398\n",
      "10    6556.377551\n",
      "11    8430.194175\n",
      "12    8302.307692\n",
      "Name: Amount, dtype: float64\n"
     ]
    },
    {
     "data": {
      "text/plain": [
       "np.float64(6570.9801511386695)"
      ]
     },
     "execution_count": 16,
     "metadata": {},
     "output_type": "execute_result"
    }
   ],
   "source": [
    "max_per_month=month_grp['Amount'].max()\n",
    "print(max_per_month)\n",
    "\n",
    "average_sales=month_grp['Amount'].mean()\n",
    "print(average_sales)\n",
    "\n",
    "average_sales.mean()"
   ]
  },
  {
   "cell_type": "code",
   "execution_count": 26,
   "metadata": {},
   "outputs": [
    {
     "name": "stdout",
     "output_type": "stream",
     "text": [
      "            Month               Product  Amount\n",
      "Date                                           \n",
      "2024-01-06      1        front axle frr   75000\n",
      "2024-01-31      1              diff txd   65000\n",
      "2024-02-03      2              diff cxz   70000\n",
      "2024-02-20      2             cabin fvr  100000\n",
      "2024-02-29      2          gear fighter   77000\n",
      "2024-03-04      3         front axle fh   70000\n",
      "2024-03-06      3              diff cxz   80000\n",
      "2024-04-30      4        front axle frr   67000\n",
      "2024-05-06      5        front axle frr   70000\n",
      "2024-05-14      5               gear fh   70000\n",
      "2024-05-24      5        front axle fvr   65000\n",
      "2024-06-10      6         front axle fh   65000\n",
      "2024-07-01      7         front axle fh   58000\n",
      "2024-07-05      7              gear frr  170000\n",
      "2024-07-12      7               gear fh   80000\n",
      "2024-07-27      7             gear tata   65000\n",
      "2024-08-05      8  cabin ashock leyland  120000\n",
      "2024-08-15      8        front axle fvz   80000\n",
      "2024-08-31      8        front axle fvr   80000\n",
      "2024-09-05      9           diff figher   58000\n",
      "2024-09-10      9              gear txd   65000\n",
      "2024-09-19      9          hangers tata   77000\n",
      "2024-10-12     10        front axle frr   58000\n",
      "2024-11-09     11        front axle fvz   80000\n",
      "2024-11-22     11             cabin fsr  140000\n",
      "2024-11-22     11        front axle fvz   90000\n",
      "2024-12-16     12             gear fuso   70000\n",
      "2024-12-21     12              gear fvm   90000\n",
      "2024-12-24     12              gear fvr   75000\n",
      "2024-12-31     12               gear fh   80000\n"
     ]
    }
   ],
   "source": [
    "# Create a list of the max amounts\n",
    "max_amounts = [75000,100000,80000,67000,70000,65000,170000,120000,77000,58000,140000,90000]\n",
    "\n",
    "# Filter rows where 'amount' matches any of the max values\n",
    "# This assumes one unique max amount per month\n",
    "max_rows = sales[sales['Amount'].isin(max_amounts)]\n",
    "\n",
    "# Optional: sort by month\n",
    "max_rows = max_rows.sort_values(by='Month')\n",
    "\n",
    "print(max_rows[['Month', 'Product', 'Amount']])\n"
   ]
  },
  {
   "cell_type": "code",
   "execution_count": 27,
   "metadata": {},
   "outputs": [
    {
     "data": {
      "text/html": [
       "<div>\n",
       "<style scoped>\n",
       "    .dataframe tbody tr th:only-of-type {\n",
       "        vertical-align: middle;\n",
       "    }\n",
       "\n",
       "    .dataframe tbody tr th {\n",
       "        vertical-align: top;\n",
       "    }\n",
       "\n",
       "    .dataframe thead th {\n",
       "        text-align: right;\n",
       "    }\n",
       "</style>\n",
       "<table border=\"1\" class=\"dataframe\">\n",
       "  <thead>\n",
       "    <tr style=\"text-align: right;\">\n",
       "      <th></th>\n",
       "      <th>Product</th>\n",
       "      <th>Amount</th>\n",
       "      <th>Month</th>\n",
       "    </tr>\n",
       "    <tr>\n",
       "      <th>Date</th>\n",
       "      <th></th>\n",
       "      <th></th>\n",
       "      <th></th>\n",
       "    </tr>\n",
       "  </thead>\n",
       "  <tbody>\n",
       "    <tr>\n",
       "      <th>2024-05-24</th>\n",
       "      <td>front axle fvr</td>\n",
       "      <td>65000</td>\n",
       "      <td>5</td>\n",
       "    </tr>\n",
       "    <tr>\n",
       "      <th>2024-06-10</th>\n",
       "      <td>front axle fh</td>\n",
       "      <td>65000</td>\n",
       "      <td>6</td>\n",
       "    </tr>\n",
       "    <tr>\n",
       "      <th>2024-07-01</th>\n",
       "      <td>front axle fh</td>\n",
       "      <td>58000</td>\n",
       "      <td>7</td>\n",
       "    </tr>\n",
       "    <tr>\n",
       "      <th>2024-07-05</th>\n",
       "      <td>gear frr</td>\n",
       "      <td>170000</td>\n",
       "      <td>7</td>\n",
       "    </tr>\n",
       "    <tr>\n",
       "      <th>2024-07-12</th>\n",
       "      <td>gear fh</td>\n",
       "      <td>80000</td>\n",
       "      <td>7</td>\n",
       "    </tr>\n",
       "    <tr>\n",
       "      <th>2024-07-27</th>\n",
       "      <td>gear tata</td>\n",
       "      <td>65000</td>\n",
       "      <td>7</td>\n",
       "    </tr>\n",
       "    <tr>\n",
       "      <th>2024-08-05</th>\n",
       "      <td>cabin ashock leyland</td>\n",
       "      <td>120000</td>\n",
       "      <td>8</td>\n",
       "    </tr>\n",
       "    <tr>\n",
       "      <th>2024-08-15</th>\n",
       "      <td>front axle fvz</td>\n",
       "      <td>80000</td>\n",
       "      <td>8</td>\n",
       "    </tr>\n",
       "    <tr>\n",
       "      <th>2024-08-31</th>\n",
       "      <td>front axle fvr</td>\n",
       "      <td>80000</td>\n",
       "      <td>8</td>\n",
       "    </tr>\n",
       "    <tr>\n",
       "      <th>2024-09-05</th>\n",
       "      <td>diff figher</td>\n",
       "      <td>58000</td>\n",
       "      <td>9</td>\n",
       "    </tr>\n",
       "    <tr>\n",
       "      <th>2024-09-10</th>\n",
       "      <td>gear txd</td>\n",
       "      <td>65000</td>\n",
       "      <td>9</td>\n",
       "    </tr>\n",
       "    <tr>\n",
       "      <th>2024-09-19</th>\n",
       "      <td>hangers tata</td>\n",
       "      <td>77000</td>\n",
       "      <td>9</td>\n",
       "    </tr>\n",
       "    <tr>\n",
       "      <th>2024-10-12</th>\n",
       "      <td>front axle frr</td>\n",
       "      <td>58000</td>\n",
       "      <td>10</td>\n",
       "    </tr>\n",
       "    <tr>\n",
       "      <th>2024-11-09</th>\n",
       "      <td>front axle fvz</td>\n",
       "      <td>80000</td>\n",
       "      <td>11</td>\n",
       "    </tr>\n",
       "    <tr>\n",
       "      <th>2024-11-22</th>\n",
       "      <td>cabin fsr</td>\n",
       "      <td>140000</td>\n",
       "      <td>11</td>\n",
       "    </tr>\n",
       "    <tr>\n",
       "      <th>2024-11-22</th>\n",
       "      <td>front axle fvz</td>\n",
       "      <td>90000</td>\n",
       "      <td>11</td>\n",
       "    </tr>\n",
       "    <tr>\n",
       "      <th>2024-12-16</th>\n",
       "      <td>gear fuso</td>\n",
       "      <td>70000</td>\n",
       "      <td>12</td>\n",
       "    </tr>\n",
       "    <tr>\n",
       "      <th>2024-12-21</th>\n",
       "      <td>gear fvm</td>\n",
       "      <td>90000</td>\n",
       "      <td>12</td>\n",
       "    </tr>\n",
       "    <tr>\n",
       "      <th>2024-12-24</th>\n",
       "      <td>gear fvr</td>\n",
       "      <td>75000</td>\n",
       "      <td>12</td>\n",
       "    </tr>\n",
       "    <tr>\n",
       "      <th>2024-12-31</th>\n",
       "      <td>gear fh</td>\n",
       "      <td>80000</td>\n",
       "      <td>12</td>\n",
       "    </tr>\n",
       "  </tbody>\n",
       "</table>\n",
       "</div>"
      ],
      "text/plain": [
       "                         Product  Amount  Month\n",
       "Date                                           \n",
       "2024-05-24        front axle fvr   65000      5\n",
       "2024-06-10         front axle fh   65000      6\n",
       "2024-07-01         front axle fh   58000      7\n",
       "2024-07-05              gear frr  170000      7\n",
       "2024-07-12               gear fh   80000      7\n",
       "2024-07-27             gear tata   65000      7\n",
       "2024-08-05  cabin ashock leyland  120000      8\n",
       "2024-08-15        front axle fvz   80000      8\n",
       "2024-08-31        front axle fvr   80000      8\n",
       "2024-09-05           diff figher   58000      9\n",
       "2024-09-10              gear txd   65000      9\n",
       "2024-09-19          hangers tata   77000      9\n",
       "2024-10-12        front axle frr   58000     10\n",
       "2024-11-09        front axle fvz   80000     11\n",
       "2024-11-22             cabin fsr  140000     11\n",
       "2024-11-22        front axle fvz   90000     11\n",
       "2024-12-16             gear fuso   70000     12\n",
       "2024-12-21              gear fvm   90000     12\n",
       "2024-12-24              gear fvr   75000     12\n",
       "2024-12-31               gear fh   80000     12"
      ]
     },
     "execution_count": 27,
     "metadata": {},
     "output_type": "execute_result"
    }
   ],
   "source": [
    "max_rows.tail(20)"
   ]
  },
  {
   "cell_type": "code",
   "execution_count": 16,
   "metadata": {},
   "outputs": [
    {
     "name": "stderr",
     "output_type": "stream",
     "text": [
      "C:\\Users\\evans\\AppData\\Local\\Temp\\ipykernel_13844\\3684349756.py:1: FutureWarning: 'Me' is deprecated and will be removed in a future version, please use 'ME' instead.\n",
      "  sales['Amount'].resample('Me').mean()\n"
     ]
    },
    {
     "data": {
      "text/plain": [
       "Date \n",
       "2024-01-31    5604.333333\n",
       "2024-02-29    6037.067308\n",
       "2024-03-31    5275.423729\n",
       "2024-04-30    5642.040816\n",
       "2024-05-31    5835.023041\n",
       "2024-06-30    5413.973799\n",
       "2024-07-31    9191.732283\n",
       "2024-08-31    6566.131687\n",
       "2024-09-30    5997.156398\n",
       "2024-10-31    6556.377551\n",
       "2024-11-30    8430.194175\n",
       "2024-12-31    8302.307692\n",
       "Freq: ME, Name: Amount, dtype: float64"
      ]
     },
     "execution_count": 16,
     "metadata": {},
     "output_type": "execute_result"
    }
   ],
   "source": [
    "#resample with respect to month end then calculate mean\n",
    "sales['Amount'].resample('Me').mean()"
   ]
  },
  {
   "cell_type": "code",
   "execution_count": 34,
   "metadata": {},
   "outputs": [
    {
     "data": {
      "text/plain": [
       "np.int64(16789490)"
      ]
     },
     "execution_count": 34,
     "metadata": {},
     "output_type": "execute_result"
    }
   ],
   "source": [
    "#tatal sales throughout the year\n",
    "sales['Amount'].sum()"
   ]
  },
  {
   "cell_type": "code",
   "execution_count": 17,
   "metadata": {},
   "outputs": [
    {
     "name": "stdout",
     "output_type": "stream",
     "text": [
      "16789490\n"
     ]
    },
    {
     "data": {
      "text/plain": [
       "np.float64(1399124.1666666667)"
      ]
     },
     "execution_count": 17,
     "metadata": {},
     "output_type": "execute_result"
    }
   ],
   "source": [
    "#average sales per month\n",
    "tots=sales['Amount'].sum()\n",
    "print(tots)\n",
    "months=12\n",
    "average=tots/months\n",
    "average"
   ]
  },
  {
   "attachments": {},
   "cell_type": "markdown",
   "metadata": {},
   "source": [
    "Frequently sold Items"
   ]
  },
  {
   "cell_type": "code",
   "execution_count": 18,
   "metadata": {},
   "outputs": [
    {
     "name": "stdout",
     "output_type": "stream",
     "text": [
      "Product\n",
      "bolts                95\n",
      "pipe                 88\n",
      "main spring txd      57\n",
      "bearing              54\n",
      "springs              47\n",
      "                     ..\n",
      "pressure tank ftr     1\n",
      "top cover frr         1\n",
      "aircleaner frr        1\n",
      "cutrange fh           1\n",
      "axle npr              1\n",
      "Name: count, Length: 1035, dtype: int64\n"
     ]
    }
   ],
   "source": [
    "\n",
    "frequent_products = sales['Product'].value_counts()\n",
    "print(frequent_products)\n"
   ]
  },
  {
   "cell_type": "code",
   "execution_count": 28,
   "metadata": {},
   "outputs": [
    {
     "data": {
      "text/plain": [
       "Product\n",
       "bolts                 95\n",
       "pipe                  88\n",
       "main spring txd       57\n",
       "bearing               54\n",
       "springs               47\n",
       "spring                37\n",
       "axle txd              32\n",
       "spring tata           31\n",
       "rim txd               28\n",
       "spring txd            27\n",
       "hanger tata           21\n",
       "hanger txd            21\n",
       "studs                 19\n",
       "gatembe fh            19\n",
       "rim                   18\n",
       "spring helper         18\n",
       "bajol                 18\n",
       "spring main txd       18\n",
       "main spring tata      17\n",
       "springs txd           17\n",
       "main spring cxz       16\n",
       "nut                   15\n",
       "nuts                  15\n",
       "axle fh               15\n",
       "springs tata          15\n",
       "bearings              14\n",
       "three hole Tata       13\n",
       "spring helpers        12\n",
       "corn bearing          11\n",
       "hanger                11\n",
       "bearing txd           11\n",
       "washers               11\n",
       "pipes                 10\n",
       "lock                  10\n",
       "spring cxz            10\n",
       "diff txd              10\n",
       "wheel nuts            10\n",
       "booster tata           9\n",
       "spring main tata       9\n",
       "hub fh                 9\n",
       "swinger txd            9\n",
       "spring pin             8\n",
       "main spring fh         8\n",
       "h tata                 8\n",
       "springs cxz            8\n",
       "pressure plate txd     8\n",
       "swinger                7\n",
       "axle frr               7\n",
       "diff fighter           7\n",
       "brake pipe             7\n",
       "Name: count, dtype: int64"
      ]
     },
     "execution_count": 28,
     "metadata": {},
     "output_type": "execute_result"
    }
   ],
   "source": [
    "frequent_products.head(50)"
   ]
  },
  {
   "cell_type": "code",
   "execution_count": 31,
   "metadata": {},
   "outputs": [
    {
     "name": "stdout",
     "output_type": "stream",
     "text": [
      "1936000\n"
     ]
    }
   ],
   "source": [
    "#total revenue generated by springs\n",
    "springs = sales['Product'].str.contains('spring', case=False, na=False)\n",
    "tot_springs = sales.loc[springs, 'Amount'].sum()\n",
    "print(tot_springs)"
   ]
  },
  {
   "cell_type": "code",
   "execution_count": 33,
   "metadata": {},
   "outputs": [
    {
     "name": "stdout",
     "output_type": "stream",
     "text": [
      "spring         1936000\n",
      "springs         760400\n",
      "axle txd        487700\n",
      "rim             387600\n",
      "bearing         291100\n",
      "bolts            98350\n",
      "pipe             86400\n",
      "hanger tata      74100\n",
      "hanger txd       71900\n",
      "dtype: int64\n"
     ]
    }
   ],
   "source": [
    "#creating an explicit function that filters out products containing specific strings from a list\n",
    "def frequent_sales_total(df, product):\n",
    "    \"\"\"\n",
    "    Calculate total sales amount for a specific product.\n",
    "\n",
    "    Parameters:\n",
    "    - df: pandas DataFrame with 'product' and 'amount' columns\n",
    "    - product: string or keyword to search in the 'product' column\n",
    "\n",
    "    Returns:\n",
    "    - Total amount generated by the brand\n",
    "    \"\"\"\n",
    "    products_dict={}\n",
    "    for product in products:\n",
    "        fil = df['Product'].str.contains(product, case=False, na=False)\n",
    "        tots= df.loc[fil, 'Amount'].sum()\n",
    "        products_dict[product]=tots\n",
    "    return pd.Series(products_dict).sort_values(ascending=False)\n",
    "\n",
    "products=['spring','springs','pipe','bolts','hanger tata','hanger txd','axle txd','bearing','rim']\n",
    "\n",
    "freq_sales=frequent_sales_total(sales,products)\n",
    "print(freq_sales)"
   ]
  },
  {
   "attachments": {},
   "cell_type": "markdown",
   "metadata": {},
   "source": [
    "Top selling products"
   ]
  },
  {
   "cell_type": "code",
   "execution_count": 20,
   "metadata": {},
   "outputs": [
    {
     "name": "stdout",
     "output_type": "stream",
     "text": [
      "Product\n",
      "diff txd          539000\n",
      "axle txd          390500\n",
      "front axle fh     370000\n",
      "front axle frr    342000\n",
      "front axle fvz    335000\n",
      "                   ...  \n",
      "pin                  100\n",
      "nut                  100\n",
      "through nut          100\n",
      "pipe connector        50\n",
      "pipe clip             50\n",
      "Name: Amount, Length: 1035, dtype: int64\n"
     ]
    }
   ],
   "source": [
    "top_sales = sales.groupby('Product')['Amount'].sum().sort_values(ascending=False)\n",
    "print(top_sales)\n"
   ]
  },
  {
   "cell_type": "code",
   "execution_count": 26,
   "metadata": {},
   "outputs": [
    {
     "data": {
      "text/plain": [
       "Product\n",
       "diff txd          539000\n",
       "axle txd          390500\n",
       "front axle fh     370000\n",
       "front axle frr    342000\n",
       "front axle fvz    335000\n",
       "diff fighter      332000\n",
       "gear txd          263000\n",
       "gear fh           233500\n",
       "gear tata         227000\n",
       "springs           194500\n",
       "Name: Amount, dtype: int64"
      ]
     },
     "execution_count": 26,
     "metadata": {},
     "output_type": "execute_result"
    }
   ],
   "source": [
    "top_sales.head(10)"
   ]
  },
  {
   "attachments": {},
   "cell_type": "markdown",
   "metadata": {},
   "source": [
    "Best selling Brand"
   ]
  },
  {
   "cell_type": "code",
   "execution_count": 22,
   "metadata": {},
   "outputs": [
    {
     "name": "stdout",
     "output_type": "stream",
     "text": [
      "txd        526\n",
      "fh         194\n",
      "cxz        160\n",
      "tata       150\n",
      "frr        114\n",
      "fuso        52\n",
      "fvz         48\n",
      "fighter     41\n",
      "igogo       28\n",
      "ashock      16\n",
      "toyota      15\n",
      "dtype: int64\n"
     ]
    }
   ],
   "source": [
    "def count_matching_strings(df, column, keywords):\n",
    "    \"\"\"\n",
    "    Count how many times each keyword appears in a column.\n",
    "\n",
    "    Parameters:\n",
    "    - df: pandas DataFrame\n",
    "    - column: name of the column to search\n",
    "    - keywords: list of strings to search for (case-insensitive)\n",
    "\n",
    "    Returns:\n",
    "    - pandas Series with keyword as index and counts as values\n",
    "    \"\"\"\n",
    "    counts = {}\n",
    "    for keyword in keywords:\n",
    "        match = df[column].str.contains(keyword, case=True, na=False)\n",
    "        counts[keyword] = match.sum()\n",
    "    return pd.Series(counts).sort_values(ascending=False)\n",
    "\n",
    "\n",
    "\n",
    "keywords=['txd','cxz','tata','frr','fh','igogo','toyota','ashock','fuso','fvz','fighter']\n",
    "\n",
    "best_selling_brand=count_matching_strings(sales,'Product',keywords)\n",
    "print(best_selling_brand)\n",
    "\n"
   ]
  },
  {
   "cell_type": "code",
   "execution_count": 23,
   "metadata": {},
   "outputs": [
    {
     "data": {
      "text/plain": [
       "<Axes: title={'center': 'Best selling Vehicle Brand'}, xlabel='Vehicle Brand', ylabel='No of Entries'>"
      ]
     },
     "execution_count": 23,
     "metadata": {},
     "output_type": "execute_result"
    },
    {
     "data": {
      "image/png": "[encoded data removed]",
      "text/plain": [
       "<Figure size 640x480 with 1 Axes>"
      ]
     },
     "metadata": {},
     "output_type": "display_data"
    }
   ],
   "source": [
    "best_selling_brand_plot=best_selling_brand.plot(kind='bar',xlabel='Vehicle Brand',ylabel='No of Entries',title='Best selling Vehicle Brand',color='violet')\n",
    "#plt.legend()\n",
    "best_selling_brand_plot"
   ]
  },
  {
   "cell_type": "code",
   "execution_count": 24,
   "metadata": {},
   "outputs": [
    {
     "data": {
      "text/plain": [
       "txd        3418000\n",
       "fh         2137500\n",
       "frr        1475900\n",
       "cxz        1423000\n",
       "tata       1044600\n",
       "fighter     768500\n",
       "fvz         699050\n",
       "fuso        605600\n",
       "igogo       289700\n",
       "ashock      184400\n",
       "toyota       95100\n",
       "dtype: int64"
      ]
     },
     "execution_count": 24,
     "metadata": {},
     "output_type": "execute_result"
    }
   ],
   "source": [
    "def brand_sales_total(df, brand_names):\n",
    "    \"\"\"\n",
    "    Calculate total sales amount for a specific brand.\n",
    "\n",
    "    Parameters:\n",
    "    - df: pandas DataFrame with 'product' and 'amount' columns\n",
    "    - brand_name: string or keyword to search in the 'product' column\n",
    "\n",
    "    Returns:\n",
    "    - Total amount generated by the brand\n",
    "    \"\"\"\n",
    "    brands={}\n",
    "    for brand_name in brand_names:\n",
    "        mask = df['Product'].str.contains(brand_name, case=False, na=False)\n",
    "        total = df.loc[mask, 'Amount'].sum()\n",
    "        brands[brand_name]=total\n",
    "    return pd.Series(brands).sort_values(ascending=False)\n",
    "\n",
    "brand_names=['txd','cxz','tata','frr','fh','igogo','toyota','ashock','fuso','fvz','fighter']\n",
    "\n",
    "vbrand_sales=brand_sales_total(sales,brand_names)\n",
    "vbrand_sales"
   ]
  },
  {
   "cell_type": "code",
   "execution_count": 25,
   "metadata": {},
   "outputs": [
    {
     "name": "stdout",
     "output_type": "stream",
     "text": [
      "Axes(0.125,0.11;0.775x0.77)\n"
     ]
    },
    {
     "data": {
      "image/png": "[encoded data removed]",
      "text/plain": [
       "<Figure size 640x480 with 1 Axes>"
      ]
     },
     "metadata": {},
     "output_type": "display_data"
    }
   ],
   "source": [
    "vbrand_sales_plot=vbrand_sales.plot(kind='bar',title='Total Revenue by Vehicle Brand',xlabel='Vehicle Brand',ylabel='Total Sales')\n",
    "print(vbrand_sales_plot)"
   ]
  },
  {
   "cell_type": "code",
   "execution_count": null,
   "metadata": {},
   "outputs": [],
   "source": []
  }
 ],
 "metadata": {
  "kernelspec": {
   "display_name": "base",
   "language": "python",
   "name": "python3"
  },
  "language_info": {
   "codemirror_mode": {
    "name": "ipython",
    "version": 3
   },
   "file_extension": ".py",
   "mimetype": "text/x-python",
   "name": "python",
   "nbconvert_exporter": "python",
   "pygments_lexer": "ipython3",
   "version": "3.13.2"
  },
  "orig_nbformat": 4
 },
 "nbformat": 4,
 "nbformat_minor": 2
}
